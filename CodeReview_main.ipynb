{
 "cells": [
  {
   "cell_type": "code",
   "execution_count": null,
   "metadata": {},
   "outputs": [],
   "source": [
    "import importlib # Very useful package, allows reimporting of external class/package after initial compile. Useful if you are working with a class / function script that is manipulating but not holding data, and you want to keep testing changes without having to reload all of your data.\n",
    "import classesV3.ProCtrlDataLoader as DataLoader \n",
    "import pandas as pd"
   ]
  },
  {
   "cell_type": "code",
   "execution_count": null,
   "metadata": {},
   "outputs": [],
   "source": [
    "importlib.reload(DataLoader)\n",
    "start_path = './data/'\n",
    "loadTest = DataLoader.ProCtrlDataLoader(start_path, ['bio','arb'],[], []) # Input structure (datapath, [gesture groups], [subjects of interest],[sessions of interes]). If any lists are left blank, automatically includes all. \n",
    "loadTest.loaddata() # Loads in data for all tagged subjects\n",
    "loadTest.printDict() # Prints out all subjects found"
   ]
  },
  {
   "cell_type": "code",
   "execution_count": null,
   "metadata": {},
   "outputs": [],
   "source": [
    "class_acc_data = loadTest.aggregate_sess_x_group_df(['bio','arb']) # creates a df of all confusion matrix values for the 3x3 gesture comparison for each subject x each session\n",
    "\n",
    "# Uncomment following line to see df:\n",
    "# class_acc_data"
   ]
  },
  {
   "cell_type": "code",
   "execution_count": null,
   "metadata": {},
   "outputs": [],
   "source": [
    "## Access a single subject single session single trial from loaded data:\n",
    "\n",
    "ar07_armgame_object = loadTest.data_dict['arb']['sub-ar07']['sess2']['post_trained']"
   ]
  },
  {
   "cell_type": "code",
   "execution_count": null,
   "metadata": {},
   "outputs": [],
   "source": [
    "## Can access member variables to ensure they are loading properly:\n",
    "\n",
    "# ar07_armgame_object.armgame_df\n",
    "# cm_df = test_ag_file.raw_cm_features"
   ]
  },
  {
   "cell_type": "code",
   "execution_count": null,
   "metadata": {},
   "outputs": [],
   "source": [
    "## Can test different functions to ensure proper modification of data:\n",
    "\n",
    "# ar07_armgame_object.diff_from_f1(18)\n",
    "# ar07_armgame_object.f1_distances"
   ]
  },
  {
   "cell_type": "markdown",
   "metadata": {},
   "source": [
    "## WIP Functionality:\n",
    "### Building secondary classifier to see how relevant certain data is to coapt classifier. \n",
    "### My classifier takes raw distance of current EMG signal to each gesture's f1 raw EMG (a feature the classifier outputs for each gesture denoting the average raw emg in each channel for that gesture), then classifies based on which gesture is the shortest overall distance from the current raw EMG. \n",
    "### Then compare that classifier's accuracy to the coapt classifier's accuracy, and also determine the agreement between these two classifiers (how often they output the same classification)\n",
    "\n",
    "### Future goals:\n",
    "####   - Remove first quarter of timepoints, to rule out onset of gesture interference\n",
    "####   - Compare only on timepoints where coapt classified correctly\n",
    "####   - Compare only on timepoints where f1 classifier classified correctly"
   ]
  },
  {
   "cell_type": "code",
   "execution_count": null,
   "metadata": {},
   "outputs": [],
   "source": [
    "import classesV3.f1_classifier as f1_classifier\n",
    "\n",
    "importlib.reload(f1_classifier)\n",
    "\n",
    "# Check single df manipulations at single df level\n",
    "ar07_f1_classifier = f1_classifier.classify_raw_emg_over_f1(ar07_armgame_object)\n",
    "ar07_f1_agreement_df, ar07_agreement_acc_values = f1_classifier.get_accuracy_for_f1_classifier(ar07_f1_classifier)\n",
    "\n",
    "print(ar07_f1_agreement_df)\n",
    "print(ar07_agreement_acc_values)"
   ]
  },
  {
   "cell_type": "code",
   "execution_count": null,
   "metadata": {},
   "outputs": [],
   "source": [
    "# Run manipulations on whole dataset, check accuracy across dataset\n",
    "dataset_f1_agreement_df = f1_classifier.dataset_f1_agreement(loadTest)\n",
    "dataset_f1_agreement_df"
   ]
  },
  {
   "cell_type": "code",
   "execution_count": null,
   "metadata": {},
   "outputs": [],
   "source": [
    "# Future\n",
    "#   Convert each completed subject into aggregate savable format, output into file for easier future parsability\n",
    "#       - Function to pipeline data from tiple csv mess into preferable data format. \n",
    "#       - Save new data format, then later on when processing load those preprocessed files.\n",
    "#   Future scripts can modify these files to have the data updates be permanently built in, instead of constantly recomputed (ofc retain all scripts for conversions from main files)\n",
    "#"
   ]
  },
  {
   "cell_type": "markdown",
   "metadata": {},
   "source": [
    "## Plotting stuff:"
   ]
  },
  {
   "cell_type": "code",
   "execution_count": null,
   "metadata": {},
   "outputs": [],
   "source": [
    "# make_raw_emg_radar_plot(ar07_armgame_object,'open',0,'ar07_raw_emg_radar')"
   ]
  },
  {
   "cell_type": "code",
   "execution_count": null,
   "metadata": {},
   "outputs": [],
   "source": [
    "f1_radar_save_path = 'figs/worms/f1_radar_plots/'\n",
    "\n",
    "# make_f1_radar_plots(loadTest,'sess2',f1_radar_save_path)"
   ]
  },
  {
   "cell_type": "markdown",
   "metadata": {},
   "source": []
  }
 ],
 "metadata": {
  "interpreter": {
   "hash": "db72871f2429c0659128210f5bc2689eafb859f570228ddc214587626bbe63a9"
  },
  "kernelspec": {
   "display_name": "Python 3.8.8 ('base')",
   "language": "python",
   "name": "python3"
  },
  "language_info": {
   "codemirror_mode": {
    "name": "ipython",
    "version": 3
   },
   "file_extension": ".py",
   "mimetype": "text/x-python",
   "name": "python",
   "nbconvert_exporter": "python",
   "pygments_lexer": "ipython3",
   "version": "3.8.8"
  },
  "orig_nbformat": 4
 },
 "nbformat": 4,
 "nbformat_minor": 2
}
